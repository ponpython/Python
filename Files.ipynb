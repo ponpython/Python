{
 "cells": [
  {
   "cell_type": "markdown",
   "metadata": {},
   "source": [
    "# Open a file"
   ]
  },
  {
   "cell_type": "code",
   "execution_count": 3,
   "metadata": {
    "collapsed": false
   },
   "outputs": [
    {
     "name": "stdout",
     "output_type": "stream",
     "text": [
      "file1.txt\n",
      "r\n",
      "True\n"
     ]
    }
   ],
   "source": [
    "f = open('file1.txt', 'r')   #r - read, #w - write #a - append #r+ - read and write\n",
    "print(f.name)\n",
    "print(f.mode)\n",
    "f.close()\n",
    "#print(f.read())\n",
    "print(f.closed)"
   ]
  },
  {
   "cell_type": "markdown",
   "metadata": {},
   "source": [
    "# open file with context manager"
   ]
  },
  {
   "cell_type": "code",
   "execution_count": 4,
   "metadata": {
    "collapsed": false
   },
   "outputs": [
    {
     "name": "stdout",
     "output_type": "stream",
     "text": [
      "file1.txt\n",
      "r\n",
      "True\n"
     ]
    }
   ],
   "source": [
    "with open('file1.txt','r') as f:\n",
    "    print(f.name)\n",
    "    print(f.mode)\n",
    "    \n",
    "print(f.closed)\n",
    "#print(f.read())\n",
    "    \n",
    "#will automatically close the file"
   ]
  },
  {
   "cell_type": "markdown",
   "metadata": {},
   "source": [
    "# Store entire file as a string\n"
   ]
  },
  {
   "cell_type": "code",
   "execution_count": 7,
   "metadata": {
    "collapsed": false
   },
   "outputs": [
    {
     "name": "stdout",
     "output_type": "stream",
     "text": [
      "Hai how are you\n",
      "I am fine\n",
      "hope to see you soon\n",
      "<type 'str'>\n"
     ]
    }
   ],
   "source": [
    "#use read() method to read the contents fo the entire file\n",
    "with open('file1.txt','r') as f:\n",
    "    file_contents = f.read()\n",
    "    print(file_contents)\n",
    "    print(type(file_contents))"
   ]
  },
  {
   "cell_type": "markdown",
   "metadata": {},
   "source": [
    "# Store each line of the file into a list"
   ]
  },
  {
   "cell_type": "code",
   "execution_count": 10,
   "metadata": {
    "collapsed": false
   },
   "outputs": [
    {
     "name": "stdout",
     "output_type": "stream",
     "text": [
      "['Hai how are you\\n', 'I am fine\\n', 'hope to see you soon']\n",
      "<type 'list'>\n"
     ]
    }
   ],
   "source": [
    "with open('file1.txt','r') as f:\n",
    "    file_contents = f.readlines()\n",
    "    print(file_contents)\n",
    "    print(type(file_contents))"
   ]
  },
  {
   "cell_type": "markdown",
   "metadata": {},
   "source": [
    "# Retrieve one line at a time"
   ]
  },
  {
   "cell_type": "code",
   "execution_count": 12,
   "metadata": {
    "collapsed": false
   },
   "outputs": [
    {
     "name": "stdout",
     "output_type": "stream",
     "text": [
      "Hai how are you\n",
      "\n",
      "I am fine\n",
      "\n",
      "hope to see you soon\n"
     ]
    }
   ],
   "source": [
    "with open('file1.txt','r') as f:\n",
    "    print(f.readline())\n",
    "    print(f.readline())\n",
    "    print(f.readline())"
   ]
  },
  {
   "cell_type": "code",
   "execution_count": 14,
   "metadata": {
    "collapsed": false
   },
   "outputs": [
    {
     "name": "stdout",
     "output_type": "stream",
     "text": [
      "Hai how are you\n",
      "\n",
      "I am fine\n",
      "\n",
      "hope to see you soon\n"
     ]
    }
   ],
   "source": [
    "with open('file1.txt','r') as f:\n",
    "    print(f.readline())\n",
    "    print(f.readline())\n",
    "    print(f.readline())"
   ]
  },
  {
   "cell_type": "markdown",
   "metadata": {},
   "source": [
    "# using for loop to iterate over the lines of the file"
   ]
  },
  {
   "cell_type": "code",
   "execution_count": 15,
   "metadata": {
    "collapsed": false
   },
   "outputs": [
    {
     "name": "stdout",
     "output_type": "stream",
     "text": [
      "Hai how are you\n",
      "\n",
      "I am fine\n",
      "\n",
      "hope to see you soon\n"
     ]
    }
   ],
   "source": [
    "with open('file1.txt','r') as f:\n",
    "    for line in f:\n",
    "        print(line)"
   ]
  },
  {
   "cell_type": "markdown",
   "metadata": {},
   "source": [
    "# Specify the number of characters to print"
   ]
  },
  {
   "cell_type": "code",
   "execution_count": 2,
   "metadata": {
    "collapsed": false
   },
   "outputs": [
    {
     "name": "stdout",
     "output_type": "stream",
     "text": [
      "0\n",
      "Hai how ar\n",
      "10\n",
      "e you\n",
      "I am\n",
      "21\n",
      "Hai how ar\n"
     ]
    }
   ],
   "source": [
    "with open('file1.txt','r') as f:\n",
    "    print(f.tell())\n",
    "    file_contents = f.read(10) #print the first 10 characters\n",
    "    print(file_contents)\n",
    "    print(f.tell())\n",
    "    file_contents = f.read(10)\n",
    "    print(file_contents)\n",
    "    print(f.tell()) #tells the current position in the file\n",
    "    f.seek(0)  #start at the beginning of the file\n",
    "    print(f.read(10))"
   ]
  },
  {
   "cell_type": "markdown",
   "metadata": {
    "collapsed": true
   },
   "source": [
    "# Try to write into a file that is opened in read mode"
   ]
  },
  {
   "cell_type": "code",
   "execution_count": 5,
   "metadata": {
    "collapsed": false
   },
   "outputs": [
    {
     "ename": "IOError",
     "evalue": "File not open for writing",
     "output_type": "error",
     "traceback": [
      "\u001b[0;31m---------------------------------------------------------------------------\u001b[0m",
      "\u001b[0;31mIOError\u001b[0m                                   Traceback (most recent call last)",
      "\u001b[0;32m<ipython-input-5-6215d71d5454>\u001b[0m in \u001b[0;36m<module>\u001b[0;34m()\u001b[0m\n\u001b[1;32m      1\u001b[0m \u001b[1;32mwith\u001b[0m \u001b[0mopen\u001b[0m\u001b[1;33m(\u001b[0m\u001b[1;34m'file1.txt'\u001b[0m\u001b[1;33m,\u001b[0m\u001b[1;34m'r'\u001b[0m\u001b[1;33m)\u001b[0m \u001b[1;32mas\u001b[0m \u001b[0mf\u001b[0m\u001b[1;33m:\u001b[0m\u001b[1;33m\u001b[0m\u001b[0m\n\u001b[0;32m----> 2\u001b[0;31m     \u001b[0mf\u001b[0m\u001b[1;33m.\u001b[0m\u001b[0mwrite\u001b[0m\u001b[1;33m(\u001b[0m\u001b[1;34m\"test\"\u001b[0m\u001b[1;33m)\u001b[0m\u001b[1;33m\u001b[0m\u001b[0m\n\u001b[0m",
      "\u001b[0;31mIOError\u001b[0m: File not open for writing"
     ]
    }
   ],
   "source": [
    "with open('file1.txt','r') as f:\n",
    "    f.write(\"test\")"
   ]
  },
  {
   "cell_type": "markdown",
   "metadata": {},
   "source": [
    "# Write into a file"
   ]
  },
  {
   "cell_type": "code",
   "execution_count": 4,
   "metadata": {
    "collapsed": true
   },
   "outputs": [],
   "source": [
    "with open('file2.txt','w') as f:  #if the file is not already present, the file will be created.\n",
    "    f.write('test file2')"
   ]
  },
  {
   "cell_type": "code",
   "execution_count": 6,
   "metadata": {
    "collapsed": true
   },
   "outputs": [],
   "source": [
    "with open('file2.txt','w') as f:\n",
    "    f.write('hahahahai')    #write will override the excisting contents of the file"
   ]
  },
  {
   "cell_type": "markdown",
   "metadata": {},
   "source": [
    "# Copying contents of one file into another"
   ]
  },
  {
   "cell_type": "code",
   "execution_count": 9,
   "metadata": {
    "collapsed": false
   },
   "outputs": [],
   "source": [
    "with open('file1.txt', 'r') as f1:\n",
    "    with open('file3.txt','w') as f2:\n",
    "        for line in f1:\n",
    "            f2.write(line)"
   ]
  },
  {
   "cell_type": "markdown",
   "metadata": {},
   "source": [
    "# Copying a image file "
   ]
  },
  {
   "cell_type": "code",
   "execution_count": 10,
   "metadata": {
    "collapsed": true
   },
   "outputs": [],
   "source": [
    "with open('virat-kohli.jpg', 'rb') as f1:\n",
    "    with open('virat-kohli2.jpg','wb') as f2:\n",
    "        for line in f1:\n",
    "            f2.write(line)"
   ]
  },
  {
   "cell_type": "markdown",
   "metadata": {},
   "source": [
    "# OS module"
   ]
  },
  {
   "cell_type": "code",
   "execution_count": 11,
   "metadata": {
    "collapsed": false
   },
   "outputs": [
    {
     "name": "stdout",
     "output_type": "stream",
     "text": [
      "['F_OK', 'O_APPEND', 'O_BINARY', 'O_CREAT', 'O_EXCL', 'O_NOINHERIT', 'O_RANDOM', 'O_RDONLY', 'O_RDWR', 'O_SEQUENTIAL', 'O_SHORT_LIVED', 'O_TEMPORARY', 'O_TEXT', 'O_TRUNC', 'O_WRONLY', 'P_DETACH', 'P_NOWAIT', 'P_NOWAITO', 'P_OVERLAY', 'P_WAIT', 'R_OK', 'SEEK_CUR', 'SEEK_END', 'SEEK_SET', 'TMP_MAX', 'UserDict', 'W_OK', 'X_OK', '_Environ', '__all__', '__builtins__', '__doc__', '__file__', '__name__', '__package__', '_copy_reg', '_execvpe', '_exists', '_exit', '_get_exports_list', '_make_stat_result', '_make_statvfs_result', '_pickle_stat_result', '_pickle_statvfs_result', 'abort', 'access', 'altsep', 'chdir', 'chmod', 'close', 'closerange', 'curdir', 'defpath', 'devnull', 'dup', 'dup2', 'environ', 'errno', 'error', 'execl', 'execle', 'execlp', 'execlpe', 'execv', 'execve', 'execvp', 'execvpe', 'extsep', 'fdopen', 'fstat', 'fsync', 'getcwd', 'getcwdu', 'getenv', 'getpid', 'isatty', 'kill', 'linesep', 'listdir', 'lseek', 'lstat', 'makedirs', 'mkdir', 'name', 'open', 'pardir', 'path', 'pathsep', 'pipe', 'popen', 'popen2', 'popen3', 'popen4', 'putenv', 'read', 'remove', 'removedirs', 'rename', 'renames', 'rmdir', 'sep', 'spawnl', 'spawnle', 'spawnv', 'spawnve', 'startfile', 'stat', 'stat_float_times', 'stat_result', 'statvfs_result', 'strerror', 'sys', 'system', 'tempnam', 'times', 'tmpfile', 'tmpnam', 'umask', 'unlink', 'unsetenv', 'urandom', 'utime', 'waitpid', 'walk', 'write']\n"
     ]
    }
   ],
   "source": [
    "import os\n",
    "print(dir(os))"
   ]
  },
  {
   "cell_type": "code",
   "execution_count": 12,
   "metadata": {
    "collapsed": false
   },
   "outputs": [
    {
     "name": "stdout",
     "output_type": "stream",
     "text": [
      "C:\\Users\\Kavi\\Documents\\PonPythonTraining\n"
     ]
    }
   ],
   "source": [
    "print(os.getcwd())"
   ]
  },
  {
   "cell_type": "code",
   "execution_count": 18,
   "metadata": {
    "collapsed": false
   },
   "outputs": [
    {
     "name": "stdout",
     "output_type": "stream",
     "text": [
      "C:\\Users\\Kavi\\Documents\\HeadFirstPython\n",
      "['.ipynb_checkpoints', 'Chapter1 - Getting started quickly.ipynb', 'Chapter2 - List data - working with ordered data.ipynb', 'Chapter3 - Structured Data - Working with Structured Data.ipynb', 'day1_a_hello_world.py', 'day1_b_hello_world_2.py', 'day1_c_beer_song.py', 'day1_d_vowel_check.py', 'day1_e_vowel_check2.py', 'day1_f_vowel_check3.py', 'Untitled.ipynb']\n"
     ]
    }
   ],
   "source": [
    "os.chdir('C:\\Users\\Kavi\\Documents\\HeadFirstPython')\n",
    "print(os.getcwd())\n",
    "print(os.listdir('C:\\Users\\Kavi\\Documents\\HeadFirstPython'))"
   ]
  },
  {
   "cell_type": "code",
   "execution_count": 19,
   "metadata": {
    "collapsed": false
   },
   "outputs": [],
   "source": [
    "os.mkdir('C:\\Users\\Kavi\\Documents\\HeadFirstPython99')"
   ]
  },
  {
   "cell_type": "code",
   "execution_count": 21,
   "metadata": {
    "collapsed": false
   },
   "outputs": [],
   "source": [
    "os.makedirs('C:\\Users\\Kavi\\Documents\\TestDir\\HeadFirstPython99')"
   ]
  },
  {
   "cell_type": "code",
   "execution_count": 22,
   "metadata": {
    "collapsed": true
   },
   "outputs": [],
   "source": [
    "os.rmdir('C:\\Users\\Kavi\\Documents\\HeadFirstPython99')"
   ]
  },
  {
   "cell_type": "code",
   "execution_count": 23,
   "metadata": {
    "collapsed": true
   },
   "outputs": [],
   "source": [
    "os.removedirs('C:\\Users\\Kavi\\Documents\\TestDir\\HeadFirstPython99')"
   ]
  },
  {
   "cell_type": "code",
   "execution_count": 24,
   "metadata": {
    "collapsed": false
   },
   "outputs": [
    {
     "name": "stdout",
     "output_type": "stream",
     "text": [
      "C:\\Users\\Kavi\\Documents\\HeadFirstPython\n"
     ]
    }
   ],
   "source": [
    "print(os.getcwd())"
   ]
  },
  {
   "cell_type": "code",
   "execution_count": 25,
   "metadata": {
    "collapsed": true
   },
   "outputs": [],
   "source": [
    "os.chdir('C:\\Users\\Kavi\\Documents\\PonPythonTraining')"
   ]
  },
  {
   "cell_type": "code",
   "execution_count": 26,
   "metadata": {
    "collapsed": false
   },
   "outputs": [
    {
     "name": "stdout",
     "output_type": "stream",
     "text": [
      "C:\\Users\\Kavi\\Documents\\PonPythonTraining\n"
     ]
    }
   ],
   "source": [
    "print(os.getcwd())"
   ]
  },
  {
   "cell_type": "code",
   "execution_count": 27,
   "metadata": {
    "collapsed": false
   },
   "outputs": [
    {
     "name": "stdout",
     "output_type": "stream",
     "text": [
      "['.ipynb_checkpoints', 'control flow.ipynb', 'file1.txt', 'file2.txt', 'file3.txt', 'Files.ipynb', 'for.PNG', 'if.PNG', 'ifelifelse.PNG', 'ifelse.PNG', 'List.ipynb', 'Python Training Dem.ipynb', 'string interview questions.ipynb', 'Tuple.ipynb', 'virat-kohli.jpg', 'virat-kohli2.jpg']\n"
     ]
    }
   ],
   "source": [
    "print(os.listdir('C:\\Users\\Kavi\\Documents\\PonPythonTraining'))"
   ]
  },
  {
   "cell_type": "code",
   "execution_count": 28,
   "metadata": {
    "collapsed": false
   },
   "outputs": [
    {
     "name": "stdout",
     "output_type": "stream",
     "text": [
      "['.ipynb_checkpoints', 'control flow.ipynb', 'file1.txt', 'file2.txt', 'file4.txt', 'Files.ipynb', 'for.PNG', 'if.PNG', 'ifelifelse.PNG', 'ifelse.PNG', 'List.ipynb', 'Python Training Dem.ipynb', 'string interview questions.ipynb', 'Tuple.ipynb', 'virat-kohli.jpg', 'virat-kohli2.jpg']\n"
     ]
    }
   ],
   "source": [
    "os.rename('file3.txt', 'file4.txt')\n",
    "print(os.listdir('C:\\Users\\Kavi\\Documents\\PonPythonTraining'))"
   ]
  },
  {
   "cell_type": "code",
   "execution_count": null,
   "metadata": {
    "collapsed": false
   },
   "outputs": [],
   "source": []
  },
  {
   "cell_type": "code",
   "execution_count": null,
   "metadata": {
    "collapsed": true
   },
   "outputs": [],
   "source": []
  }
 ],
 "metadata": {
  "kernelspec": {
   "display_name": "Python 2",
   "language": "python",
   "name": "python2"
  },
  "language_info": {
   "codemirror_mode": {
    "name": "ipython",
    "version": 2
   },
   "file_extension": ".py",
   "mimetype": "text/x-python",
   "name": "python",
   "nbconvert_exporter": "python",
   "pygments_lexer": "ipython2",
   "version": "2.7.13"
  }
 },
 "nbformat": 4,
 "nbformat_minor": 2
}
