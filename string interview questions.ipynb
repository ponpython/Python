{
 "cells": [
  {
   "cell_type": "markdown",
   "metadata": {},
   "source": [
    "# string interview questions"
   ]
  },
  {
   "cell_type": "raw",
   "metadata": {},
   "source": [
    "1) Statement: String is immutable. Explain\n",
    "2) Write a program to reverse string\n",
    "3) Write a program to find if a string is palindrome\n",
    "4) Write a program to reverse a string without using inbuilt functions\n",
    "5) How to concartinate two strings\n",
    "6) Write a program to find if sub string is present in a string\n",
    "7) write a program to find the starting index of a substring in a sring\n",
    "8) What is the starting index of a string ?\n",
    "9) How to do string repetation ?\n",
    "10) s1 = 'hai'\n",
    "    what error is thrown when you try to access s1[3]   ?"
   ]
  }
 ],
 "metadata": {
  "kernelspec": {
   "display_name": "Python 2",
   "language": "python",
   "name": "python2"
  },
  "language_info": {
   "codemirror_mode": {
    "name": "ipython",
    "version": 2
   },
   "file_extension": ".py",
   "mimetype": "text/x-python",
   "name": "python",
   "nbconvert_exporter": "python",
   "pygments_lexer": "ipython2",
   "version": "2.7.13"
  }
 },
 "nbformat": 4,
 "nbformat_minor": 2
}
