{
 "cells": [
  {
   "cell_type": "markdown",
   "metadata": {},
   "source": [
    "# Functions"
   ]
  },
  {
   "cell_type": "raw",
   "metadata": {},
   "source": [
    "Functions are basically some instructions packaged together that perform a specific task\n",
    "To create the function we need to use the DEF keyword"
   ]
  },
  {
   "cell_type": "markdown",
   "metadata": {},
   "source": [
    "# Create an empty function"
   ]
  },
  {
   "cell_type": "code",
   "execution_count": 1,
   "metadata": {
    "collapsed": true
   },
   "outputs": [],
   "source": [
    "def hello_func():\n",
    "    pass"
   ]
  },
  {
   "cell_type": "code",
   "execution_count": 4,
   "metadata": {},
   "outputs": [
    {
     "name": "stdout",
     "output_type": "stream",
     "text": [
      "2561868225120\n"
     ]
    }
   ],
   "source": [
    "print(id(hello_func))"
   ]
  },
  {
   "cell_type": "code",
   "execution_count": 5,
   "metadata": {},
   "outputs": [
    {
     "name": "stdout",
     "output_type": "stream",
     "text": [
      "<class 'function'>\n"
     ]
    }
   ],
   "source": [
    "print(type(hello_func))"
   ]
  },
  {
   "cell_type": "code",
   "execution_count": 26,
   "metadata": {},
   "outputs": [
    {
     "name": "stdout",
     "output_type": "stream",
     "text": [
      "<class 'NoneType'>\n"
     ]
    }
   ],
   "source": [
    "print(type(hello_func())) #No value is returned from the function. So None is displayed"
   ]
  },
  {
   "cell_type": "markdown",
   "metadata": {},
   "source": [
    "# Create a simple function"
   ]
  },
  {
   "cell_type": "code",
   "execution_count": 7,
   "metadata": {
    "collapsed": true
   },
   "outputs": [],
   "source": [
    "def hello_func2():\n",
    "    print(\"Hello world!\")"
   ]
  },
  {
   "cell_type": "code",
   "execution_count": 8,
   "metadata": {},
   "outputs": [
    {
     "name": "stdout",
     "output_type": "stream",
     "text": [
      "Hello world!\n"
     ]
    }
   ],
   "source": [
    "hello_func2()"
   ]
  },
  {
   "cell_type": "code",
   "execution_count": 9,
   "metadata": {},
   "outputs": [
    {
     "data": {
      "text/plain": [
       "<function __main__.hello_func2>"
      ]
     },
     "execution_count": 9,
     "metadata": {},
     "output_type": "execute_result"
    }
   ],
   "source": [
    "hello_func2"
   ]
  },
  {
   "cell_type": "markdown",
   "metadata": {},
   "source": [
    "# Whats is the need for a function ?"
   ]
  },
  {
   "cell_type": "raw",
   "metadata": {},
   "source": [
    "Function is created for code reusability\n",
    "\n",
    "print('Hello world')\n",
    "print('Hello world')\n",
    "print('Hello world')\n",
    "print('Hello world')\n",
    "\n",
    "If we want to replace 'Hello world' with 'Hello world!!', we need to make changes in 4 diffrent lines\n",
    "But if we had put the print('Hello world') inside a function, we need to make the change only in one line inside the function."
   ]
  },
  {
   "cell_type": "code",
   "execution_count": 10,
   "metadata": {},
   "outputs": [
    {
     "name": "stdout",
     "output_type": "stream",
     "text": [
      "Hello world\n",
      "Hello world\n",
      "Hello world\n",
      "Hello world\n"
     ]
    }
   ],
   "source": [
    "print('Hello world')\n",
    "print('Hello world')\n",
    "print('Hello world')\n",
    "print('Hello world')"
   ]
  },
  {
   "cell_type": "code",
   "execution_count": 11,
   "metadata": {
    "collapsed": true
   },
   "outputs": [],
   "source": [
    "def hello_func3():\n",
    "    print(\"Hello world\")"
   ]
  },
  {
   "cell_type": "code",
   "execution_count": 12,
   "metadata": {},
   "outputs": [
    {
     "name": "stdout",
     "output_type": "stream",
     "text": [
      "Hello world\n",
      "Hello world\n",
      "Hello world\n",
      "Hello world\n"
     ]
    }
   ],
   "source": [
    "hello_func3()\n",
    "hello_func3()\n",
    "hello_func3()\n",
    "hello_func3()"
   ]
  },
  {
   "cell_type": "raw",
   "metadata": {},
   "source": [
    "Keep your code DRY\n",
    "DRY = Dont Repeat yourself"
   ]
  },
  {
   "cell_type": "code",
   "execution_count": 14,
   "metadata": {},
   "outputs": [
    {
     "name": "stdout",
     "output_type": "stream",
     "text": [
      "Hello world\n",
      "None\n"
     ]
    }
   ],
   "source": [
    "print(hello_func3())  #no value is returned from the function so 'None' is displayed"
   ]
  },
  {
   "cell_type": "markdown",
   "metadata": {},
   "source": [
    "# Function that returns values"
   ]
  },
  {
   "cell_type": "code",
   "execution_count": 21,
   "metadata": {
    "collapsed": true
   },
   "outputs": [],
   "source": [
    "def hello_func3():\n",
    "    return \"Hello world!\""
   ]
  },
  {
   "cell_type": "code",
   "execution_count": 19,
   "metadata": {},
   "outputs": [
    {
     "name": "stdout",
     "output_type": "stream",
     "text": [
      "Hello world!\n"
     ]
    }
   ],
   "source": [
    "str1 = hello_func3()\n",
    "print(str1)"
   ]
  },
  {
   "cell_type": "code",
   "execution_count": 20,
   "metadata": {},
   "outputs": [
    {
     "name": "stdout",
     "output_type": "stream",
     "text": [
      "Hello world!\n"
     ]
    }
   ],
   "source": [
    "print(hello_func3())"
   ]
  },
  {
   "cell_type": "markdown",
   "metadata": {},
   "source": [
    "# Function chaining"
   ]
  },
  {
   "cell_type": "code",
   "execution_count": 27,
   "metadata": {},
   "outputs": [
    {
     "name": "stdout",
     "output_type": "stream",
     "text": [
      "<class 'function'>\n",
      "<class 'str'>\n"
     ]
    }
   ],
   "source": [
    "print(type(hello_func3))\n",
    "print(type(hello_func3()))  #type of a function is equvalent to its return type"
   ]
  },
  {
   "cell_type": "code",
   "execution_count": 28,
   "metadata": {},
   "outputs": [
    {
     "name": "stdout",
     "output_type": "stream",
     "text": [
      "HELLO WORLD!\n"
     ]
    }
   ],
   "source": [
    "print('Hello world!'.upper())"
   ]
  },
  {
   "cell_type": "code",
   "execution_count": 29,
   "metadata": {},
   "outputs": [
    {
     "name": "stdout",
     "output_type": "stream",
     "text": [
      "HELLO WORLD!\n"
     ]
    }
   ],
   "source": [
    "print(hello_func3().upper())"
   ]
  },
  {
   "cell_type": "markdown",
   "metadata": {},
   "source": [
    "# Passing argument to a function"
   ]
  },
  {
   "cell_type": "raw",
   "metadata": {},
   "source": [
    "To be able to pass argument to a function, we need to define parameters inside the parenthesis"
   ]
  },
  {
   "cell_type": "code",
   "execution_count": 33,
   "metadata": {},
   "outputs": [
    {
     "name": "stdout",
     "output_type": "stream",
     "text": [
      "hai how are you\n"
     ]
    }
   ],
   "source": [
    "def hello_func4(greeting):  #greeting is the parameter\n",
    "    print(greeting)\n",
    "    \n",
    "hello_func4('hai how are you')  #'hai how are you' is the argument"
   ]
  },
  {
   "cell_type": "code",
   "execution_count": 34,
   "metadata": {},
   "outputs": [
    {
     "name": "stdout",
     "output_type": "stream",
     "text": [
      "welcome\n"
     ]
    }
   ],
   "source": [
    "hello_func4('welcome')"
   ]
  },
  {
   "cell_type": "code",
   "execution_count": 35,
   "metadata": {},
   "outputs": [
    {
     "name": "stdout",
     "output_type": "stream",
     "text": [
      "nice to see you\n"
     ]
    }
   ],
   "source": [
    "hello_func4('nice to see you')"
   ]
  },
  {
   "cell_type": "code",
   "execution_count": 36,
   "metadata": {},
   "outputs": [
    {
     "ename": "TypeError",
     "evalue": "hello_func4() missing 1 required positional argument: 'greeting'",
     "output_type": "error",
     "traceback": [
      "\u001b[1;31m---------------------------------------------------------------------------\u001b[0m",
      "\u001b[1;31mTypeError\u001b[0m                                 Traceback (most recent call last)",
      "\u001b[1;32m<ipython-input-36-0d895312b46c>\u001b[0m in \u001b[0;36m<module>\u001b[1;34m()\u001b[0m\n\u001b[0;32m      1\u001b[0m \u001b[1;31m#call the function without an argument will result in an error\u001b[0m\u001b[1;33m\u001b[0m\u001b[1;33m\u001b[0m\u001b[0m\n\u001b[1;32m----> 2\u001b[1;33m \u001b[0mhello_func4\u001b[0m\u001b[1;33m(\u001b[0m\u001b[1;33m)\u001b[0m\u001b[1;33m\u001b[0m\u001b[0m\n\u001b[0m",
      "\u001b[1;31mTypeError\u001b[0m: hello_func4() missing 1 required positional argument: 'greeting'"
     ]
    }
   ],
   "source": [
    "#call the function without an argument will result in an error\n",
    "hello_func4()"
   ]
  },
  {
   "cell_type": "code",
   "execution_count": 38,
   "metadata": {},
   "outputs": [],
   "source": [
    "def hello_func5(greeting, name):   #declaring more than one parameter\n",
    "    print(greeting + \" \" + name)"
   ]
  },
  {
   "cell_type": "code",
   "execution_count": 39,
   "metadata": {},
   "outputs": [
    {
     "name": "stdout",
     "output_type": "stream",
     "text": [
      "welcome Jagan\n"
     ]
    }
   ],
   "source": [
    "hello_func5('welcome', 'Jagan')  #passing the arguments based on position"
   ]
  },
  {
   "cell_type": "code",
   "execution_count": 40,
   "metadata": {},
   "outputs": [
    {
     "name": "stdout",
     "output_type": "stream",
     "text": [
      "welcome Kavita\n"
     ]
    }
   ],
   "source": [
    "hello_func5('welcome', 'Kavita') #passing the arguments based on position"
   ]
  },
  {
   "cell_type": "markdown",
   "metadata": {},
   "source": [
    "# Default value parameter"
   ]
  },
  {
   "cell_type": "code",
   "execution_count": 41,
   "metadata": {
    "collapsed": true
   },
   "outputs": [],
   "source": [
    "def hello_func6(greeting = \"Welcome\", name = \"You\"):\n",
    "    print(greeting + \" \" + name)"
   ]
  },
  {
   "cell_type": "code",
   "execution_count": 43,
   "metadata": {},
   "outputs": [
    {
     "name": "stdout",
     "output_type": "stream",
     "text": [
      "Welcome You\n"
     ]
    }
   ],
   "source": [
    "#do not pass any argument\n",
    "hello_func6()"
   ]
  },
  {
   "cell_type": "markdown",
   "metadata": {},
   "source": [
    "# passing the arguments based on position"
   ]
  },
  {
   "cell_type": "code",
   "execution_count": 44,
   "metadata": {},
   "outputs": [
    {
     "name": "stdout",
     "output_type": "stream",
     "text": [
      "hello Jagan\n"
     ]
    }
   ],
   "source": [
    "#pass both the arguments\n",
    "hello_func6('hello', 'Jagan')  "
   ]
  },
  {
   "cell_type": "markdown",
   "metadata": {},
   "source": [
    "# passing the arguments based on keyword"
   ]
  },
  {
   "cell_type": "code",
   "execution_count": 45,
   "metadata": {},
   "outputs": [
    {
     "name": "stdout",
     "output_type": "stream",
     "text": [
      "hello Jagan\n"
     ]
    }
   ],
   "source": [
    "hello_func6(greeting = 'hello', name = 'Jagan') #passing the arguments based on the keyword"
   ]
  },
  {
   "cell_type": "code",
   "execution_count": 46,
   "metadata": {},
   "outputs": [
    {
     "name": "stdout",
     "output_type": "stream",
     "text": [
      "hello Jagan\n"
     ]
    }
   ],
   "source": [
    "hello_func6(name = 'Jagan', greeting = 'hello') #passing the arguments based on the keyword"
   ]
  },
  {
   "cell_type": "markdown",
   "metadata": {},
   "source": [
    "# mixing position and position and keyword arguemnts"
   ]
  },
  {
   "cell_type": "code",
   "execution_count": 48,
   "metadata": {},
   "outputs": [
    {
     "name": "stdout",
     "output_type": "stream",
     "text": [
      "Hai Jagan\n"
     ]
    }
   ],
   "source": [
    "#positional arguments have to come before keyword arguments, other wise it will throw an error\n",
    "hello_func6('Hai', name = 'Jagan')  "
   ]
  },
  {
   "cell_type": "code",
   "execution_count": 50,
   "metadata": {},
   "outputs": [
    {
     "ename": "SyntaxError",
     "evalue": "positional argument follows keyword argument (<ipython-input-50-39b4131d3c8b>, line 1)",
     "output_type": "error",
     "traceback": [
      "\u001b[1;36m  File \u001b[1;32m\"<ipython-input-50-39b4131d3c8b>\"\u001b[1;36m, line \u001b[1;32m1\u001b[0m\n\u001b[1;33m    hello_func6(name = 'Jagan', 'Hai')\u001b[0m\n\u001b[1;37m                               ^\u001b[0m\n\u001b[1;31mSyntaxError\u001b[0m\u001b[1;31m:\u001b[0m positional argument follows keyword argument\n"
     ]
    }
   ],
   "source": [
    "hello_func6(name = 'Jagan', 'Hai') "
   ]
  },
  {
   "cell_type": "markdown",
   "metadata": {},
   "source": [
    "#  *args **kwargs parameters"
   ]
  },
  {
   "cell_type": "raw",
   "metadata": {},
   "source": [
    "*args is used to pass arbitary number of positional parameters\n",
    "**kwargs is used to pass arbitary number of keyword parameters"
   ]
  },
  {
   "cell_type": "code",
   "execution_count": 62,
   "metadata": {
    "collapsed": true
   },
   "outputs": [],
   "source": [
    "def hello_func7(*args, **kwargs):\n",
    "    print(args)\n",
    "    print(kwargs)\n",
    "    print(type(args))  #args is stored as tuple\n",
    "    print(type(kwargs)) #kwargs are stored as dictionary\n",
    "    \n",
    "    print(args[0])\n",
    "    print(args[1])\n",
    "    print(args[2])\n",
    "    \n",
    "    print(kwargs['name'])\n",
    "    print(kwargs['age'])\n",
    "    print(kwargs['department'])"
   ]
  },
  {
   "cell_type": "code",
   "execution_count": 63,
   "metadata": {},
   "outputs": [
    {
     "name": "stdout",
     "output_type": "stream",
     "text": [
      "('hai', 'hello', 'welcome')\n",
      "{'name': 'Jagan', 'age': 32, 'department': 'CSE'}\n",
      "<class 'tuple'>\n",
      "<class 'dict'>\n",
      "hai\n",
      "hello\n",
      "welcome\n",
      "Jagan\n",
      "32\n",
      "CSE\n"
     ]
    }
   ],
   "source": [
    "hello_func7('hai','hello','welcome', name=\"Jagan\", age=32, department = \"CSE\")"
   ]
  },
  {
   "cell_type": "markdown",
   "metadata": {},
   "source": [
    "# *args **kwargs arguments"
   ]
  },
  {
   "cell_type": "code",
   "execution_count": 64,
   "metadata": {
    "collapsed": true
   },
   "outputs": [],
   "source": [
    "def hello_func8(greeting1, greeting2, greeting3, name, age, department):\n",
    "    print(greeting1)\n",
    "    print(greeting2)\n",
    "    print(greeting3)\n",
    "    print(name)\n",
    "    print(age)\n",
    "    print(department)"
   ]
  },
  {
   "cell_type": "code",
   "execution_count": 66,
   "metadata": {},
   "outputs": [
    {
     "name": "stdout",
     "output_type": "stream",
     "text": [
      "hai\n",
      "hello\n",
      "welcome\n",
      "Jagan\n",
      "32\n",
      "CSE\n"
     ]
    }
   ],
   "source": [
    "args = ['hai', 'hello', 'welcome']\n",
    "kwargs = {'name': 'Jagan',\n",
    "           'age': 32,\n",
    "           'department': 'CSE'}\n",
    "\n",
    "# * => unpacks the elements of a tuple or list as positional parameters\n",
    "# ** => unpacks the key value pairs of a dictionary as keword and values\n",
    "\n",
    "hello_func8(*args, **kwargs)"
   ]
  },
  {
   "cell_type": "markdown",
   "metadata": {},
   "source": [
    "# docstring"
   ]
  },
  {
   "cell_type": "code",
   "execution_count": 67,
   "metadata": {
    "collapsed": true
   },
   "outputs": [],
   "source": [
    "def hello_func9():\n",
    "    \"\"\"This function prints a greeting\"\"\"\n",
    "    print('welcome')"
   ]
  },
  {
   "cell_type": "code",
   "execution_count": 68,
   "metadata": {},
   "outputs": [
    {
     "name": "stdout",
     "output_type": "stream",
     "text": [
      "welcome\n"
     ]
    }
   ],
   "source": [
    "hello_func9()"
   ]
  },
  {
   "cell_type": "code",
   "execution_count": 71,
   "metadata": {},
   "outputs": [
    {
     "name": "stdout",
     "output_type": "stream",
     "text": [
      "Help on function hello_func9 in module __main__:\n",
      "\n",
      "hello_func9()\n",
      "    This function prints a greeting\n",
      "\n"
     ]
    }
   ],
   "source": [
    "help(hello_func9)"
   ]
  },
  {
   "cell_type": "code",
   "execution_count": 75,
   "metadata": {
    "collapsed": true
   },
   "outputs": [],
   "source": [
    "#call by reference\n",
    "\n",
    "def modify_list(l1):\n",
    "    l1[0] = 111\n",
    "    l1[1] = 222\n",
    "    l1[2] = 333\n",
    "    l1[3] = 444\n",
    "    l1[4] = 555\n",
    "    print(id(l1))\n",
    "    "
   ]
  },
  {
   "cell_type": "code",
   "execution_count": 76,
   "metadata": {},
   "outputs": [
    {
     "name": "stdout",
     "output_type": "stream",
     "text": [
      "2561868936584\n",
      "[111, 222, 333, 444, 555]\n",
      "2561868936584\n"
     ]
    }
   ],
   "source": [
    "list1 = [1,2,3,4,5]\n",
    "modify_list(list1)\n",
    "\n",
    "print(list1)\n",
    "print(id(list1))"
   ]
  },
  {
   "cell_type": "code",
   "execution_count": 77,
   "metadata": {
    "collapsed": true
   },
   "outputs": [],
   "source": [
    "#Assignment\n",
    "#Does python pass the arguments by value or reference ?"
   ]
  }
 ],
 "metadata": {
  "kernelspec": {
   "display_name": "Python 3",
   "language": "python",
   "name": "python3"
  },
  "language_info": {
   "codemirror_mode": {
    "name": "ipython",
    "version": 3
   },
   "file_extension": ".py",
   "mimetype": "text/x-python",
   "name": "python",
   "nbconvert_exporter": "python",
   "pygments_lexer": "ipython3",
   "version": "3.6.1"
  }
 },
 "nbformat": 4,
 "nbformat_minor": 2
}
