{
 "cells": [
  {
   "cell_type": "markdown",
   "metadata": {},
   "source": [
    "# Lambda functions"
   ]
  },
  {
   "cell_type": "raw",
   "metadata": {},
   "source": [
    "Normal functions are defined using the def keyword\n",
    "Anonymous functions are defined using the lambda keyword\n",
    "Lambda functions can have any number of arguments but only one expression"
   ]
  },
  {
   "cell_type": "code",
   "execution_count": 6,
   "metadata": {},
   "outputs": [],
   "source": [
    "def double(x):\n",
    "    return x * 2"
   ]
  },
  {
   "cell_type": "code",
   "execution_count": 7,
   "metadata": {},
   "outputs": [
    {
     "name": "stdout",
     "output_type": "stream",
     "text": [
      "20\n"
     ]
    }
   ],
   "source": [
    "print(double(10))"
   ]
  },
  {
   "cell_type": "code",
   "execution_count": 12,
   "metadata": {},
   "outputs": [
    {
     "name": "stdout",
     "output_type": "stream",
     "text": [
      "20\n"
     ]
    }
   ],
   "source": [
    "#The above function can be defined as a lamdba function as\n",
    "double2 = lambda x : x * 2\n",
    "\n",
    "print(double2(10))"
   ]
  },
  {
   "cell_type": "code",
   "execution_count": 13,
   "metadata": {},
   "outputs": [
    {
     "name": "stdout",
     "output_type": "stream",
     "text": [
      "12\n",
      "2652032793456\n"
     ]
    }
   ],
   "source": [
    "#another example\n",
    "#create a function to find the sum of two numbers\n",
    "def sum(x, y):\n",
    "    return x + y\n",
    "\n",
    "print(sum(5, 7))\n",
    "print(id(sum))"
   ]
  },
  {
   "cell_type": "code",
   "execution_count": 17,
   "metadata": {},
   "outputs": [
    {
     "name": "stdout",
     "output_type": "stream",
     "text": [
      "2652032793456\n",
      "<class 'function'>\n",
      "<class 'function'>\n"
     ]
    }
   ],
   "source": [
    "s = sum\n",
    "print(id(s))\n",
    "print(type(s))\n",
    "print(type(sum))"
   ]
  },
  {
   "cell_type": "code",
   "execution_count": 18,
   "metadata": {},
   "outputs": [
    {
     "name": "stdout",
     "output_type": "stream",
     "text": [
      "12\n",
      "2652032794408\n",
      "<function <lambda> at 0x000002697978FF28>\n"
     ]
    }
   ],
   "source": [
    "sum2 = lambda x, y: x + y\n",
    "\n",
    "print(sum2(5, 7))\n",
    "print(id(sum2))"
   ]
  },
  {
   "cell_type": "markdown",
   "metadata": {},
   "source": [
    "# Use of Lambda Function"
   ]
  },
  {
   "cell_type": "raw",
   "metadata": {},
   "source": [
    "We use lambda functions when we require a nameless function for a short period of time.\n",
    "We generally use it as an argument to a higher-order function (a function that takes in other functions as arguments). \n",
    "Lambda functions are used along with built-in functions like filter(), map() etc.\n",
    "\n",
    "In python function is also an object. It has a id like any other objects. So function can be passed as an argument to \n",
    "another function like any other object.\n"
   ]
  },
  {
   "cell_type": "code",
   "execution_count": 21,
   "metadata": {},
   "outputs": [
    {
     "name": "stdout",
     "output_type": "stream",
     "text": [
      "['haihai', 'byebye', 6, 8, 10, 12, 14, 16, 18, 20]\n"
     ]
    }
   ],
   "source": [
    "def func(i):\n",
    "    return i * 2\n",
    "\n",
    "def map2(function, seq):\n",
    "    for i in range(len(seq)):\n",
    "        seq[i] = function(seq[i])\n",
    "        \n",
    "my_list = [1,2,3,4,5,6,7,8,9,10]\n",
    "#my_list2 = ['hai','bye',3,4,5,6,7,8,9,10]\n",
    "map2(func, my_list1)\n",
    "print(my_list2)\n",
    "        \n",
    "    "
   ]
  },
  {
   "cell_type": "code",
   "execution_count": 22,
   "metadata": {},
   "outputs": [
    {
     "name": "stdout",
     "output_type": "stream",
     "text": [
      "[2, 4, 6, 8, 10, 12, 14, 16, 18, 20]\n"
     ]
    }
   ],
   "source": [
    "#the above example can be done using lambda using the below code:\n",
    "my_list = [1,2,3,4,5,6,7,8,9,10]\n",
    "map2(lambda i: i * 2, my_list)\n",
    "print(my_list)"
   ]
  },
  {
   "cell_type": "code",
   "execution_count": 26,
   "metadata": {},
   "outputs": [
    {
     "name": "stdout",
     "output_type": "stream",
     "text": [
      "[2, 4, 6, 8, 10]\n"
     ]
    }
   ],
   "source": [
    "#filter example\n",
    "def filter2(function, seq):\n",
    "    new_seq = []\n",
    "    for i in range(len(seq)):\n",
    "        if function(seq[i]):\n",
    "            new_seq.append(seq[i])\n",
    "            \n",
    "    return new_seq\n",
    "            \n",
    "my_list = [1,2,3,4,5,6,7,8,9,10]\n",
    "\n",
    "#find the even numbers in the above list\n",
    "even_numbers = filter2(lambda x: x%2 == 0, my_list)\n",
    "print(even_numbers)\n",
    "    "
   ]
  },
  {
   "cell_type": "markdown",
   "metadata": {},
   "source": [
    "# Recursive function"
   ]
  },
  {
   "cell_type": "raw",
   "metadata": {},
   "source": [
    "It is even possible for the function to call itself. \n",
    "These type of construct are termed as recursive functions"
   ]
  },
  {
   "cell_type": "code",
   "execution_count": 29,
   "metadata": {},
   "outputs": [
    {
     "name": "stdout",
     "output_type": "stream",
     "text": [
      "The factorial of 4 is 24\n"
     ]
    }
   ],
   "source": [
    "#Following is an example of recursive function to find the factorial of an integer.\n",
    "def calc_factorial(x):\n",
    "    \"\"\"This is a recursive function\n",
    "    to find the factorial of an integer\"\"\"\n",
    "\n",
    "    if x == 1:\n",
    "        return 1\n",
    "    else:\n",
    "        return (x * calc_factorial(x-1))\n",
    "\n",
    "num = 4\n",
    "print(\"The factorial of\", num, \"is\", calc_factorial(num))"
   ]
  },
  {
   "cell_type": "markdown",
   "metadata": {},
   "source": [
    "# List comprehension"
   ]
  },
  {
   "cell_type": "code",
   "execution_count": 30,
   "metadata": {},
   "outputs": [
    {
     "name": "stdout",
     "output_type": "stream",
     "text": [
      "[1, 2, 3, 4, 5, 6, 7, 8, 9, 10]\n"
     ]
    }
   ],
   "source": [
    "#list comprehensions example1\n",
    "#copy the contents of a list into another list\n",
    "nums = [1,2,3,4,5,6,7,8,9,10]\n",
    "my_list = []\n",
    "\n",
    "for n in nums:\n",
    "    my_list.append(n)\n",
    "\n",
    "print(my_list)"
   ]
  },
  {
   "cell_type": "code",
   "execution_count": 31,
   "metadata": {},
   "outputs": [
    {
     "name": "stdout",
     "output_type": "stream",
     "text": [
      "[1, 2, 3, 4, 5, 6, 7, 8, 9, 10]\n"
     ]
    }
   ],
   "source": [
    "#The above code using list comprehensions\n",
    "nums = [1,2,3,4,5,6,7,8,9,10]\n",
    "my_list = [n for n in nums]\n",
    "print(my_list)"
   ]
  },
  {
   "cell_type": "code",
   "execution_count": 32,
   "metadata": {},
   "outputs": [
    {
     "name": "stdout",
     "output_type": "stream",
     "text": [
      "[1, 4, 9, 16, 25, 36, 49, 64, 81, 100]\n"
     ]
    }
   ],
   "source": [
    "#list comprehensions example2\n",
    "nums = [1,2,3,4,5,6,7,8,9,10]\n",
    "my_list = []\n",
    "\n",
    "for n in nums:\n",
    "    my_list.append(n * n)\n",
    "\n",
    "print(my_list)"
   ]
  },
  {
   "cell_type": "code",
   "execution_count": 33,
   "metadata": {},
   "outputs": [
    {
     "name": "stdout",
     "output_type": "stream",
     "text": [
      "[1, 4, 9, 16, 25, 36, 49, 64, 81, 100]\n"
     ]
    }
   ],
   "source": [
    "#The above code using list comprehensions\n",
    "nums = [1,2,3,4,5,6,7,8,9,10]\n",
    "my_list = [n * n for n in nums]\n",
    "print(my_list)"
   ]
  },
  {
   "cell_type": "code",
   "execution_count": 39,
   "metadata": {},
   "outputs": [
    {
     "name": "stdout",
     "output_type": "stream",
     "text": [
      "[2, 4, 6, 8, 10]\n"
     ]
    }
   ],
   "source": [
    "#list comprehension example 3\n",
    "\n",
    "nums = [1,2,3,4,5,6,7,8,9,10]\n",
    "\n",
    "my_list = []\n",
    "\n",
    "for n in nums:\n",
    "    if n%2 == 0:\n",
    "        my_list.append(n)\n",
    "        \n",
    "print(my_list)"
   ]
  },
  {
   "cell_type": "code",
   "execution_count": 40,
   "metadata": {},
   "outputs": [
    {
     "name": "stdout",
     "output_type": "stream",
     "text": [
      "[2, 4, 6, 8, 10]\n"
     ]
    }
   ],
   "source": [
    "nums = [1,2,3,4,5,6,7,8,9,10]\n",
    "\n",
    "my_list = [n for n in nums if n%2 == 0]\n",
    "print(my_list)"
   ]
  },
  {
   "cell_type": "code",
   "execution_count": 46,
   "metadata": {},
   "outputs": [
    {
     "name": "stdout",
     "output_type": "stream",
     "text": [
      "[[1, 'ravi'], [1, 'siva'], [1, 'kumar'], [1, 'suresh'], [1, 'hema'], [2, 'ravi'], [2, 'siva'], [2, 'kumar'], [2, 'suresh'], [2, 'hema'], [3, 'ravi'], [3, 'siva'], [3, 'kumar'], [3, 'suresh'], [3, 'hema'], [4, 'ravi'], [4, 'siva'], [4, 'kumar'], [4, 'suresh'], [4, 'hema'], [5, 'ravi'], [5, 'siva'], [5, 'kumar'], [5, 'suresh'], [5, 'hema']]\n"
     ]
    }
   ],
   "source": [
    "#list comprehension example 4\n",
    "#I want the comprehension of rolls and names in the result\n",
    "\n",
    "rolls = [1,2,3,4,5]\n",
    "names = ['ravi','siva','kumar','suresh','hema']\n",
    "\n",
    "my_list = []\n",
    "\n",
    "for roll in rolls:\n",
    "    for name in names:\n",
    "        my_list.append([roll, name])\n",
    "        \n",
    "print(my_list)"
   ]
  },
  {
   "cell_type": "code",
   "execution_count": null,
   "metadata": {
    "collapsed": true
   },
   "outputs": [],
   "source": [
    "#The above program can be achieved via list comprehension as below\n",
    "\n",
    "rolls = [1,2,3,4,5]\n",
    "names = ['ravi','siva','kumar','suresh','hema']\n",
    "\n"
   ]
  },
  {
   "cell_type": "markdown",
   "metadata": {},
   "source": [
    "# Dictionary comprehensions"
   ]
  },
  {
   "cell_type": "code",
   "execution_count": 45,
   "metadata": {},
   "outputs": [
    {
     "name": "stdout",
     "output_type": "stream",
     "text": [
      "{1: 'hema', 2: 'hema', 3: 'hema', 4: 'hema', 5: 'hema'}\n"
     ]
    }
   ],
   "source": [
    "rolls = [1,2,3,4,5]\n",
    "names = ['ravi','siva','kumar','suresh','hema']\n",
    "\n",
    "my_dict = {roll: name for roll in rolls for name in names}\n",
    "print(my_dict)"
   ]
  },
  {
   "cell_type": "code",
   "execution_count": null,
   "metadata": {
    "collapsed": true
   },
   "outputs": [],
   "source": []
  }
 ],
 "metadata": {
  "kernelspec": {
   "display_name": "Python 3",
   "language": "python",
   "name": "python3"
  },
  "language_info": {
   "codemirror_mode": {
    "name": "ipython",
    "version": 3
   },
   "file_extension": ".py",
   "mimetype": "text/x-python",
   "name": "python",
   "nbconvert_exporter": "python",
   "pygments_lexer": "ipython3",
   "version": "3.6.1"
  }
 },
 "nbformat": 4,
 "nbformat_minor": 2
}
