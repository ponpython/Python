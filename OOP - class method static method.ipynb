{
 "cells": [
  {
   "cell_type": "markdown",
   "metadata": {},
   "source": [
    "# Class method"
   ]
  },
  {
   "cell_type": "raw",
   "metadata": {},
   "source": [
    "class method is used to manipulate the class variable\n",
    "The decorator @classmethod is used to declare a class method."
   ]
  },
  {
   "cell_type": "code",
   "execution_count": 10,
   "metadata": {},
   "outputs": [
    {
     "name": "stdout",
     "output_type": "stream",
     "text": [
      "1000\n",
      "1150.0\n"
     ]
    }
   ],
   "source": [
    "class Employee:\n",
    "    \n",
    "    raise_persentage = 1.04    #class variable\n",
    "    \n",
    "    def __init__(self, first, last, email, pay):\n",
    "        self.first = first  #self.fname\n",
    "        self.last = last\n",
    "        self.email = email\n",
    "        self.pay = pay\n",
    "        \n",
    "    def apply_raise(self):\n",
    "        self.pay = self.pay * Employee.raise_persentage\n",
    "    \n",
    "    @classmethod\n",
    "    def update_raise_persentage(cls, percent):\n",
    "        cls.raise_persentage = percent\n",
    "        \n",
    "        \n",
    "e1 = Employee('Pon','Jagannath','ponjagannath@gmail.com',1000)\n",
    "print(e1.pay)\n",
    "e1.update_raise_persentage(1.15)\n",
    "e1.apply_raise()\n",
    "print(e1.pay)\n"
   ]
  },
  {
   "cell_type": "code",
   "execution_count": 11,
   "metadata": {
    "collapsed": true
   },
   "outputs": [],
   "source": [
    "class Class1:\n",
    "    \n",
    "    def fun1(par1, par2):\n",
    "        par1.a = par2\n",
    "        \n",
    "    @classmethod\n",
    "    def fun2(par1, par2):\n",
    "        par1.a = par2"
   ]
  },
  {
   "cell_type": "code",
   "execution_count": 13,
   "metadata": {},
   "outputs": [
    {
     "name": "stdout",
     "output_type": "stream",
     "text": [
      "{'__module__': '__main__', 'fun1': <function Class1.fun1 at 0x00000233848960D0>, 'fun2': <classmethod object at 0x0000023384879668>, '__dict__': <attribute '__dict__' of 'Class1' objects>, '__weakref__': <attribute '__weakref__' of 'Class1' objects>, '__doc__': None}\n",
      "**************************************************\n",
      "{'a': 10}\n"
     ]
    }
   ],
   "source": [
    "c = Class1()\n",
    "c.fun1(10)\n",
    "print(Class1.__dict__)\n",
    "print('*'*50)\n",
    "print(c.__dict__)"
   ]
  },
  {
   "cell_type": "code",
   "execution_count": 14,
   "metadata": {},
   "outputs": [
    {
     "name": "stdout",
     "output_type": "stream",
     "text": [
      "{'__module__': '__main__', 'fun1': <function Class1.fun1 at 0x00000233848960D0>, 'fun2': <classmethod object at 0x0000023384879668>, '__dict__': <attribute '__dict__' of 'Class1' objects>, '__weakref__': <attribute '__weakref__' of 'Class1' objects>, '__doc__': None, 'a': 20}\n",
      "**************************************************\n",
      "{'a': 10}\n"
     ]
    }
   ],
   "source": [
    "c.fun2(20)\n",
    "print(Class1.__dict__)\n",
    "print('*'*50)\n",
    "print(c.__dict__)"
   ]
  },
  {
   "cell_type": "markdown",
   "metadata": {},
   "source": [
    "# static method"
   ]
  },
  {
   "cell_type": "raw",
   "metadata": {},
   "source": [
    "static method do not pass either the instance or the class as the first varaible."
   ]
  },
  {
   "cell_type": "code",
   "execution_count": 15,
   "metadata": {},
   "outputs": [
    {
     "name": "stdout",
     "output_type": "stream",
     "text": [
      "30\n"
     ]
    }
   ],
   "source": [
    "class Class2:\n",
    "    @staticmethod\n",
    "    def fun1(par1, par2):\n",
    "        return par1 + par2\n",
    "    \n",
    "c = Class2()\n",
    "sum = c.fun1(10,20)\n",
    "print(sum)"
   ]
  },
  {
   "cell_type": "code",
   "execution_count": 16,
   "metadata": {},
   "outputs": [
    {
     "name": "stdout",
     "output_type": "stream",
     "text": [
      "{'__module__': '__main__', 'fun1': <staticmethod object at 0x0000023384890D30>, '__dict__': <attribute '__dict__' of 'Class2' objects>, '__weakref__': <attribute '__weakref__' of 'Class2' objects>, '__doc__': None}\n",
      "**************************************************\n",
      "{}\n"
     ]
    }
   ],
   "source": [
    "print(Class2.__dict__)\n",
    "print('*'*50)\n",
    "print(c.__dict__)"
   ]
  },
  {
   "cell_type": "code",
   "execution_count": null,
   "metadata": {
    "collapsed": true
   },
   "outputs": [],
   "source": []
  }
 ],
 "metadata": {
  "kernelspec": {
   "display_name": "Python 3",
   "language": "python",
   "name": "python3"
  },
  "language_info": {
   "codemirror_mode": {
    "name": "ipython",
    "version": 3
   },
   "file_extension": ".py",
   "mimetype": "text/x-python",
   "name": "python",
   "nbconvert_exporter": "python",
   "pygments_lexer": "ipython3",
   "version": "3.6.1"
  }
 },
 "nbformat": 4,
 "nbformat_minor": 2
}
