{
 "cells": [
  {
   "cell_type": "markdown",
   "metadata": {},
   "source": [
    "# Class"
   ]
  },
  {
   "cell_type": "code",
   "execution_count": 1,
   "metadata": {
    "collapsed": true
   },
   "outputs": [],
   "source": [
    "class Employee:\n",
    "    pass"
   ]
  },
  {
   "cell_type": "raw",
   "metadata": {},
   "source": [
    "class\n",
    "instance of a class"
   ]
  },
  {
   "cell_type": "code",
   "execution_count": 2,
   "metadata": {},
   "outputs": [
    {
     "name": "stdout",
     "output_type": "stream",
     "text": [
      "1770806378728\n",
      "1770834820792\n",
      "1770834820736\n"
     ]
    }
   ],
   "source": [
    "emp1 = Employee()\n",
    "emp2 = Employee()\n",
    "\n",
    "print(id(Employee))\n",
    "print(id(emp1))\n",
    "print(id(emp2))"
   ]
  },
  {
   "cell_type": "markdown",
   "metadata": {},
   "source": [
    "# instance variable"
   ]
  },
  {
   "cell_type": "raw",
   "metadata": {},
   "source": [
    "instance variable contains data that is unique to each instance"
   ]
  },
  {
   "cell_type": "code",
   "execution_count": 3,
   "metadata": {
    "collapsed": true
   },
   "outputs": [],
   "source": [
    "emp1.first = \"Pon\"\n",
    "emp1.last = \"Jagannath\"\n",
    "emp1.email = \"ponjagannath@gmail.com\"\n",
    "\n",
    "emp2.first = \"Siva\"\n",
    "emp2.last = \"Ram\"\n",
    "emp2.email = \"sivaram@gmail.com\""
   ]
  },
  {
   "cell_type": "code",
   "execution_count": 4,
   "metadata": {},
   "outputs": [
    {
     "name": "stdout",
     "output_type": "stream",
     "text": [
      "ponjagannath@gmail.com\n",
      "sivaram@gmail.com\n"
     ]
    }
   ],
   "source": [
    "print(emp1.email)\n",
    "print(emp2.email)"
   ]
  },
  {
   "cell_type": "code",
   "execution_count": 9,
   "metadata": {},
   "outputs": [
    {
     "name": "stdout",
     "output_type": "stream",
     "text": [
      "['__class__', '__delattr__', '__dict__', '__dir__', '__doc__', '__eq__', '__format__', '__ge__', '__getattribute__', '__gt__', '__hash__', '__init__', '__init_subclass__', '__le__', '__lt__', '__module__', '__ne__', '__new__', '__reduce__', '__reduce_ex__', '__repr__', '__setattr__', '__sizeof__', '__str__', '__subclasshook__', '__weakref__', 'email', 'first', 'last']\n"
     ]
    }
   ],
   "source": [
    "print(dir(emp1))"
   ]
  },
  {
   "cell_type": "markdown",
   "metadata": {},
   "source": [
    "# constructor"
   ]
  },
  {
   "cell_type": "raw",
   "metadata": {},
   "source": [
    "In pyton __init__ method is used for constructor"
   ]
  },
  {
   "cell_type": "code",
   "execution_count": 12,
   "metadata": {
    "collapsed": true
   },
   "outputs": [],
   "source": [
    "class Employee2:\n",
    "    \n",
    "    def __init__(self, first, last, email):\n",
    "        self.first = first  #self.fname\n",
    "        self.last = last\n",
    "        self.email = email\n",
    "        "
   ]
  },
  {
   "cell_type": "code",
   "execution_count": 13,
   "metadata": {},
   "outputs": [],
   "source": [
    "e1 = Employee2(\"Pon\",\"Jagannath\",\"ponjagannath@gmail.com\")\n",
    "e2 = Employee2(\"Siva\",\"Ram\",\"sivaram@gmail.com\")"
   ]
  },
  {
   "cell_type": "code",
   "execution_count": 14,
   "metadata": {},
   "outputs": [
    {
     "name": "stdout",
     "output_type": "stream",
     "text": [
      "ponjagannath@gmail.com\n",
      "sivaram@gmail.com\n"
     ]
    }
   ],
   "source": [
    "print(e1.email)\n",
    "print(e2.email)"
   ]
  },
  {
   "cell_type": "markdown",
   "metadata": {},
   "source": [
    "# methods"
   ]
  },
  {
   "cell_type": "code",
   "execution_count": 17,
   "metadata": {
    "collapsed": true
   },
   "outputs": [],
   "source": [
    "class Employee3:\n",
    "    \n",
    "    def __init__(self, first, last, email):\n",
    "        self.first = first  #self.fname\n",
    "        self.last = last\n",
    "        self.email = email\n",
    "        \n",
    "    def fullname(self):\n",
    "        return '{} {}'.format(self.first, self.last)"
   ]
  },
  {
   "cell_type": "code",
   "execution_count": 21,
   "metadata": {},
   "outputs": [
    {
     "name": "stdout",
     "output_type": "stream",
     "text": [
      "Pon Jagannath\n",
      "Siva Ram\n"
     ]
    }
   ],
   "source": [
    "e1 = Employee3(\"Pon\",\"Jagannath\",\"ponjagannth\")\n",
    "e2 = Employee3(\"Siva\", \"Ram\", \"sivaram@gmail.com\")\n",
    "\n",
    "e1_fullname = e1.fullname()\n",
    "print(e1_fullname)\n",
    "\n",
    "e2_fullname = Employee3.fullname(e2)\n",
    "print(e2_fullname)"
   ]
  },
  {
   "cell_type": "markdown",
   "metadata": {},
   "source": [
    "# Class varaible"
   ]
  },
  {
   "cell_type": "raw",
   "metadata": {},
   "source": [
    "class variables are variables that are shared by all the instance of a class"
   ]
  },
  {
   "cell_type": "code",
   "execution_count": 28,
   "metadata": {},
   "outputs": [
    {
     "name": "stdout",
     "output_type": "stream",
     "text": [
      "1000\n",
      "1040.0\n",
      "2000\n",
      "2080.0\n"
     ]
    }
   ],
   "source": [
    "class Employee4:\n",
    "    \n",
    "    def __init__(self, first, last, email, pay):\n",
    "        self.first = first  #self.fname\n",
    "        self.last = last\n",
    "        self.email = email\n",
    "        self.pay = pay\n",
    "        \n",
    "    def apply_raise(self):\n",
    "        self.pay = self.pay * 1.04\n",
    "        \n",
    "emp1 = Employee4(\"Pon\", \"Jagannath\", \"ponjagannath@gmail.com\", 1000)\n",
    "emp2 = Employee4(\"Siva\", \"Ram\", \"sivaram@gmail.com\", 2000)\n",
    "\n",
    "print(emp1.pay)\n",
    "emp1.apply_raise()\n",
    "print(emp1.pay)\n",
    "\n",
    "print(emp2.pay)\n",
    "emp2.apply_raise()\n",
    "print(emp2.pay)\n",
    "\n",
    "\n"
   ]
  },
  {
   "cell_type": "raw",
   "metadata": {},
   "source": [
    "class variable should be access via the class name or the instance name\n"
   ]
  },
  {
   "cell_type": "code",
   "execution_count": 33,
   "metadata": {},
   "outputs": [
    {
     "name": "stdout",
     "output_type": "stream",
     "text": [
      "1000\n",
      "1040.0\n",
      "2000\n",
      "2080.0\n"
     ]
    }
   ],
   "source": [
    "class Employee5:\n",
    "    \n",
    "    raise_persentage = 1.04    #class variable\n",
    "    \n",
    "    def __init__(self, first, last, email, pay):\n",
    "        self.first = first  #self.fname\n",
    "        self.last = last\n",
    "        self.email = email\n",
    "        self.pay = pay\n",
    "        \n",
    "    def apply_raise(self):\n",
    "        self.pay = self.pay * Employee5.raise_persentage\n",
    "       #self.pay = self.pay * self.raise_persentage\n",
    "       #self.pay = self.pay * raise_persentage\n",
    "        \n",
    "emp1 = Employee5(\"Pon\", \"Jagannath\", \"ponjagannath@gmail.com\", 1000)\n",
    "emp2 = Employee5(\"Siva\", \"Ram\", \"sivaram@gmail.com\", 2000)\n",
    "\n",
    "print(emp1.pay)\n",
    "emp1.apply_raise()\n",
    "print(emp1.pay)\n",
    "\n",
    "print(emp2.pay)\n",
    "emp2.apply_raise()\n",
    "print(emp2.pay)\n"
   ]
  },
  {
   "cell_type": "code",
   "execution_count": 34,
   "metadata": {},
   "outputs": [
    {
     "name": "stdout",
     "output_type": "stream",
     "text": [
      "1.04\n"
     ]
    }
   ],
   "source": [
    "print(Employee5.raise_persentage)"
   ]
  },
  {
   "cell_type": "code",
   "execution_count": 36,
   "metadata": {},
   "outputs": [
    {
     "name": "stdout",
     "output_type": "stream",
     "text": [
      "1.04\n"
     ]
    }
   ],
   "source": [
    "print(emp1.raise_persentage)"
   ]
  },
  {
   "cell_type": "code",
   "execution_count": 37,
   "metadata": {},
   "outputs": [
    {
     "name": "stdout",
     "output_type": "stream",
     "text": [
      "1.04\n"
     ]
    }
   ],
   "source": [
    "print(emp2.raise_persentage)"
   ]
  },
  {
   "cell_type": "code",
   "execution_count": 39,
   "metadata": {},
   "outputs": [
    {
     "name": "stdout",
     "output_type": "stream",
     "text": [
      "1770833455456\n",
      "1770833455456\n",
      "1770833455456\n"
     ]
    }
   ],
   "source": [
    "print(id(Employee5.raise_persentage))\n",
    "print(id(emp1.raise_persentage))\n",
    "print(id(emp2.raise_persentage))"
   ]
  },
  {
   "cell_type": "raw",
   "metadata": {},
   "source": [
    "when we try to access an attribute on an insance, it will first try to find that attribute on that instance, if its \n",
    "unable to find, it will search for that attribute on the class"
   ]
  },
  {
   "cell_type": "markdown",
   "metadata": {},
   "source": [
    "# . __dict__"
   ]
  },
  {
   "cell_type": "code",
   "execution_count": 40,
   "metadata": {},
   "outputs": [
    {
     "name": "stdout",
     "output_type": "stream",
     "text": [
      "{'first': 'Pon', 'last': 'Jagannath', 'email': 'ponjagannath@gmail.com', 'pay': 1040.0}\n"
     ]
    }
   ],
   "source": [
    "print(emp1.__dict__)"
   ]
  },
  {
   "cell_type": "code",
   "execution_count": 41,
   "metadata": {},
   "outputs": [
    {
     "name": "stdout",
     "output_type": "stream",
     "text": [
      "{'first': 'Siva', 'last': 'Ram', 'email': 'sivaram@gmail.com', 'pay': 2080.0}\n"
     ]
    }
   ],
   "source": [
    "print(emp2.__dict__)"
   ]
  },
  {
   "cell_type": "code",
   "execution_count": 42,
   "metadata": {},
   "outputs": [
    {
     "name": "stdout",
     "output_type": "stream",
     "text": [
      "{'__module__': '__main__', 'raise_persentage': 1.04, '__init__': <function Employee5.__init__ at 0x0000019C4E0489D8>, 'apply_raise': <function Employee5.apply_raise at 0x0000019C4E048D90>, '__dict__': <attribute '__dict__' of 'Employee5' objects>, '__weakref__': <attribute '__weakref__' of 'Employee5' objects>, '__doc__': None}\n"
     ]
    }
   ],
   "source": [
    "print(Employee5.__dict__)"
   ]
  },
  {
   "cell_type": "code",
   "execution_count": 43,
   "metadata": {},
   "outputs": [
    {
     "name": "stdout",
     "output_type": "stream",
     "text": [
      "2.5\n",
      "2.5\n",
      "2.5\n"
     ]
    }
   ],
   "source": [
    "Employee5.raise_persentage = 2.5\n",
    "print(Employee5.raise_persentage)\n",
    "print(emp1.raise_persentage)\n",
    "print(emp2.raise_persentage)\n"
   ]
  },
  {
   "cell_type": "markdown",
   "metadata": {},
   "source": [
    "# instance and class variable having the same attribute name"
   ]
  },
  {
   "cell_type": "code",
   "execution_count": 45,
   "metadata": {},
   "outputs": [
    {
     "name": "stdout",
     "output_type": "stream",
     "text": [
      "2.5\n",
      "3.0\n",
      "2.5\n"
     ]
    }
   ],
   "source": [
    "emp1.raise_persentage = 3.0\n",
    "print(Employee5.raise_persentage)\n",
    "print(emp1.raise_persentage)\n",
    "print(emp2.raise_persentage)\n"
   ]
  },
  {
   "cell_type": "code",
   "execution_count": 46,
   "metadata": {},
   "outputs": [
    {
     "name": "stdout",
     "output_type": "stream",
     "text": [
      "{'first': 'Pon', 'last': 'Jagannath', 'email': 'ponjagannath@gmail.com', 'pay': 1040.0, 'raise_persentage': 3.0}\n"
     ]
    }
   ],
   "source": [
    "print(emp1.__dict__)"
   ]
  },
  {
   "cell_type": "code",
   "execution_count": 47,
   "metadata": {},
   "outputs": [
    {
     "name": "stdout",
     "output_type": "stream",
     "text": [
      "{'first': 'Siva', 'last': 'Ram', 'email': 'sivaram@gmail.com', 'pay': 2080.0}\n"
     ]
    }
   ],
   "source": [
    "print(emp2.__dict__)"
   ]
  },
  {
   "cell_type": "code",
   "execution_count": 48,
   "metadata": {},
   "outputs": [
    {
     "name": "stdout",
     "output_type": "stream",
     "text": [
      "{'__module__': '__main__', 'raise_persentage': 2.5, '__init__': <function Employee5.__init__ at 0x0000019C4E0489D8>, 'apply_raise': <function Employee5.apply_raise at 0x0000019C4E048D90>, '__dict__': <attribute '__dict__' of 'Employee5' objects>, '__weakref__': <attribute '__weakref__' of 'Employee5' objects>, '__doc__': None}\n"
     ]
    }
   ],
   "source": [
    "print(Employee5.__dict__)"
   ]
  },
  {
   "cell_type": "code",
   "execution_count": 49,
   "metadata": {},
   "outputs": [
    {
     "name": "stdout",
     "output_type": "stream",
     "text": [
      "2.5\n"
     ]
    }
   ],
   "source": [
    "print(Employee5.__dict__['raise_persentage'])"
   ]
  },
  {
   "cell_type": "markdown",
   "metadata": {},
   "source": [
    "# Class variable another example"
   ]
  },
  {
   "cell_type": "code",
   "execution_count": 51,
   "metadata": {},
   "outputs": [
    {
     "name": "stdout",
     "output_type": "stream",
     "text": [
      "2\n"
     ]
    }
   ],
   "source": [
    "class Employee6:\n",
    "    \n",
    "    raise_persentage = 1.04    #class variable\n",
    "    number_of_employees = 0\n",
    "    \n",
    "    def __init__(self, first, last, email, pay):\n",
    "        self.first = first  #self.fname\n",
    "        self.last = last\n",
    "        self.email = email\n",
    "        self.pay = pay\n",
    "        Employee6.number_of_employees = Employee6.number_of_employees + 1\n",
    "        \n",
    "    def apply_raise(self):\n",
    "        self.pay = self.pay * Employee5.raise_persentage\n",
    "       #self.pay = self.pay * self.raise_persentage\n",
    "       #self.pay = self.pay * raise_persentage\n",
    "        \n",
    "emp1 = Employee6(\"Pon\", \"Jagannath\", \"ponjagannath@gmail.com\", 1000)\n",
    "emp2 = Employee6(\"Siva\", \"Ram\", \"sivaram@gmail.com\", 2000)\n",
    "\n",
    "print(Employee6.number_of_employees)"
   ]
  }
 ],
 "metadata": {
  "kernelspec": {
   "display_name": "Python 3",
   "language": "python",
   "name": "python3"
  },
  "language_info": {
   "codemirror_mode": {
    "name": "ipython",
    "version": 3
   },
   "file_extension": ".py",
   "mimetype": "text/x-python",
   "name": "python",
   "nbconvert_exporter": "python",
   "pygments_lexer": "ipython3",
   "version": "3.6.1"
  }
 },
 "nbformat": 4,
 "nbformat_minor": 2
}
